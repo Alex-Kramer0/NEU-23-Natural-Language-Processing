{
 "cells": [
  {
   "cell_type": "markdown",
   "metadata": {},
   "source": [
    "Homework 4: Sentiment Analysis - Task 0, Task 1, Task 5 (all primarily written tasks)\n",
    "----\n",
    "\n",
    "The following instructions are only written in this notebook but apply to all notebooks and `.py` files you submit for this homework.\n",
    "\n",
    "Due date: October 25th, 2023\n",
    "\n",
    "Goals:\n",
    "- understand the difficulties of counting and probablities in NLP applications\n",
    "- work with real world data to build a functioning language model\n",
    "- stress test your model (to some extent)\n",
    "\n",
    "Complete in groups of: __two (pairs)__. If you prefer to work on your own, you may, but be aware that this homework has been designed as a partner project.\n",
    "\n",
    "Allowed python modules:\n",
    "- `numpy`, `matplotlib`, `keras`, `pytorch`, `nltk`, `pandas`, `sci-kit learn` (`sklearn`), `seaborn`, and all built-in python libraries (e.g. `math` and `string`)\n",
    "- if you would like to use a library not on this list, post on piazza to request permission\n",
    "- all *necessary* imports have been included for you (all imports that we used in our solution)\n",
    "\n",
    "Instructions:\n",
    "- Complete outlined problems in this notebook. \n",
    "- When you have finished, __clear the kernel__ and __run__ your notebook \"fresh\" from top to bottom. Ensure that there are __no errors__. \n",
    "    - If a problem asks for you to write code that does result in an error (as in, the answer to the problem is an error), leave the code in your notebook but commented out so that running from top to bottom does not result in any errors.\n",
    "- Double check that you have completed Task 0.\n",
    "- Submit your work on Gradescope.\n",
    "- Double check that your submission on Gradescope looks like you believe it should __and__ that all partners are included (for partner work).\n",
    "\n",
    "6120 students: complete __all__ problems.\n",
    "\n",
    "4120 students: you are not required to complete problems marked \"CS 6120 REQUIRED\". If you complete these you will not get extra credit. We will not take points off if you attempt these problems and do not succeed."
   ]
  },
  {
   "cell_type": "markdown",
   "metadata": {},
   "source": [
    "Names & Sections\n",
    "----\n",
    "Names: Alex Kramer"
   ]
  },
  {
   "cell_type": "markdown",
   "metadata": {},
   "source": [
    "Task 0: Name, References, Reflection (5 points)\n",
    "---\n",
    "\n",
    "References\n",
    "---\n",
    "List the resources you consulted to complete this homework here. Write one sentence per resource about what it provided to you. If you consulted no references to complete your assignment, write a brief sentence stating that this is the case and why it was the case for you.\n",
    "\n",
    "- https://www.nltk.org/_modules/nltk/translate/metrics.html\n",
    "    - Read about nltk source code metrics.\n",
    "- https://www.nltk.org/howto/metrics.html\n",
    "    - Read about fixing an error withing nltk.metrics.scores with taking in sets.\n",
    "    \n",
    "- https://arize.com/blog-course/binary-cross-entropy-log-loss/\n",
    "    - Read about binary cross entrophy.\n",
    "- https://scikit-learn.org/stable/modules/generated/sklearn.feature_extraction.text.CountVectorizer.html\n",
    "    - Read about the sklearn count vectorizer and how to use it.\n",
    "- https://keras.io/api/layers/activations/\n",
    "    - Read about Keras activations. \n",
    "- https://keras.io/api/models/sequential/\n",
    "    - Read about Keras sequential.\n",
    "- https://keras.io/api/layers/core_layers/dense/\n",
    "    - Read about Keras layers and density.\n",
    "- https://stackoverflow.com/questions/71918564/valueerror-logits-and-labels-must-have-the-same-shape\n",
    "    - Learned about fixing an error. \n",
    "- https://docs.aws.amazon.com/machine-learning/latest/dg/model-fit-underfitting-vs-overfitting.html\n",
    "    - Learned about overfitting and underfitting.\n",
    " \n",
    "AI Collaboration\n",
    "---\n",
    "Following the *AI Collaboration Policy* in the syllabus, please cite any LLMs that you used here and briefly describe what you used them for. Additionally, provide comments in-line identifying the specific sections that you used LLMs on, if you used them towards the generation of any of your answers.\n",
    "\n",
    "__NEW__: Do not include nested list comprehensions supplied by AI collaborators — all nested lists comprehensions __must__ be re-written.\n",
    "\n",
    "Reflection\n",
    "----\n",
    "Answer the following questions __after__ you complete this assignment (no more than 1 sentence per question required, this section is graded on completion):\n",
    "\n",
    "1. Does this work reflect your best effort?\n",
    "Yes, we both try our best to implement the helper functions and complete all the tasks.\n",
    "2. What was/were the most challenging part(s) of the assignment?\n",
    "We find that it is challenging to implement the helper functions.\n",
    "3. If you want feedback, what function(s) or problem(s) would you like feedback on and why?\n",
    "We would like feedback from the graph we created.\n",
    "4. Briefly reflect on how your partnership functioned--who did which tasks, how was the workload on each of you individually as compared to the previous homeworks, etc.\n"
   ]
  },
  {
   "cell_type": "markdown",
   "metadata": {},
   "source": [
    "Task 1: Provided Data Write-Up (10 points)\n",
    "---\n",
    "\n",
    "Every time you use a data set in an NLP application (or in any software application), you should be able to answer a set of questions about that data. Answer these now. Default to no more than 1 sentence per question needed. If more explanation is necessary, do give it."
   ]
  },
  {
   "cell_type": "markdown",
   "metadata": {},
   "source": [
    "This is about the __provided__ movie review data set.\n",
    "\n",
    "1. Where did you get the data from? The provided dataset(s) were sub-sampled from https://www.kaggle.com/datasets/lakshmi25npathi/imdb-dataset-of-50k-movie-reviews \n",
    "- We got the data from kaggle, it is a subset of their previous benchmark datasets.\n",
    "2. (1 pt) How was the data collected (where did the people acquiring the data get it from and how)?\n",
    "The author doesn't mention where the data is collected. I assume the data is collected from an app.\n",
    "3. (2 pts) How large is the dataset (answer for both the train and the dev set, separately)? (# reviews, # tokens in both the train and dev sets)\n",
    "There are 1600 reviews and 425421 tokens in train set. There are 200 reviews and 54603 tokens in the dev set.\n",
    "4. (1 pt) What is your data? (i.e. newswire, tweets, books, blogs, etc)\n",
    "The data is movie reviews.\n",
    "5. (1 pt) Who produced the data? (who were the authors of the text? Your answer might be a specific person or a particular group of people)\n",
    "Audience who watched the movie produced the data.\n",
    "6. (2 pts) What is the distribution of labels in the data (answer for both the train and the dev set, separately)?\n",
    "The distribution is 50/50 for positive and negative class.\n",
    "7. (2 pts) How large is the vocabulary (answer for both the train and the dev set, separately)?\n",
    "There are 27132 vocabulary for train set, and 8145 vocabulary for dev set.\n",
    "8. (1 pt) How big is the overlap between the vocabulary for the train and dev set?\n",
    "There are 6123 vocabulary exist both in train and dev set."
   ]
  },
  {
   "cell_type": "code",
   "execution_count": 1,
   "metadata": {},
   "outputs": [
    {
     "name": "stderr",
     "output_type": "stream",
     "text": [
      "[nltk_data] Downloading package punkt to\n",
      "[nltk_data]     C:\\Users\\ChenXi\\AppData\\Roaming\\nltk_data...\n",
      "[nltk_data]   Package punkt is already up-to-date!\n"
     ]
    },
    {
     "name": "stdout",
     "output_type": "stream",
     "text": [
      "There are 1600 reviews in the training set\n",
      "There are 200 reviews in the dev set\n",
      "There are 425421 tokens in the training set\n",
      "There are 54603 tokens in the dev set\n",
      "Vocabulary size of training set: 27132\n",
      "Vocabulary size of dev set: 8145\n",
      "There are 6123 vocabulary exists in both train and dev data\n"
     ]
    }
   ],
   "source": [
    "# our utility functions\n",
    "# RESTART your jupyter notebook kernel if you make changes to this file\n",
    "import sentiment_utils as sutils\n",
    "\n",
    "TRAIN_FILE = \"movie_reviews_train.txt\"\n",
    "DEV_FILE = \"movie_reviews_dev.txt\"\n",
    "\n",
    "# load in your data and make sure you understand the format\n",
    "# Do not print out too much so as to impede readability of your notebook\n",
    "train_tups = sutils.generate_tuples_from_file(TRAIN_FILE)\n",
    "dev_tups = sutils.generate_tuples_from_file(DEV_FILE)\n",
    "\n",
    "# 3\n",
    "# see how many reviews\n",
    "print(f\"There are {len(train_tups[0])} reviews in the training set\")\n",
    "print(f\"There are {len(dev_tups[0])} reviews in the dev set\")\n",
    "\n",
    "num_tokens_train = sum([len(review) for review in train_tups[0]])\n",
    "num_tokens_dev = sum([len(review) for review in dev_tups[0]])\n",
    "\n",
    "print(f\"There are {num_tokens_train} tokens in the training set\")\n",
    "print(f\"There are {num_tokens_dev} tokens in the dev set\")\n",
    "\n",
    "# 7\n",
    "# get the vocabulary\n",
    "vocab_train = sutils.create_index(train_tups[0])\n",
    "vocab_dev = sutils.create_index(dev_tups[0])\n",
    "\n",
    "print(\"Vocabulary size of training set:\", len(vocab_train))\n",
    "print(\"Vocabulary size of dev set:\", len(vocab_dev))\n",
    "\n",
    "# 8\n",
    "overlap = [vocab for vocab in vocab_dev if vocab in vocab_train]\n",
    "print(f\"There are {len(overlap)} vocabulary exists in both train and dev data\")"
   ]
  },
  {
   "cell_type": "markdown",
   "metadata": {},
   "source": [
    "Task 5: Model Evaluation (15 points)\n",
    "---\n",
    "Save your three graph files for the __best__ configurations that you found with your models using the `plt.savefig(filename)` command. The `bbox_inches` optional parameter will help you control how much whitespace outside of the graph is in your resulting image.\n",
    "Run your each notebook containing a classifier 3 times, resulting in __NINE__ saved graphed (don't just overwrite your previous ones).\n",
    "\n",
    "You will turn in all of these files.\n",
    "\n",
    "10 points in this section are allocated for having all nine graphs legible, properly labeled, and present.\n"
   ]
  },
  {
   "cell_type": "markdown",
   "metadata": {},
   "source": [
    "\n",
    "\n",
    "1. (1 pt) When using __10%__ of your data, which model had the highest f1 score?\n",
    "2. (1 pt) Which classifier had the most __consistent__ performance (that is, which classifier had the least variation across all three graphs you have for it -- no need to mathematically calculate this, you can just look at the graphs)?\n",
    "3. (1 pt) For each model, what percentage of training data resulted in the highest f1 score?\n",
    "    1. Naive Bayes:\n",
    "    2. Logistic Regression:\n",
    "    3. Neural Net:\n",
    "4. (2 pts) Which model, if any, appeared to overfit the training data the most? Why?\n"
   ]
  },
  {
   "cell_type": "markdown",
   "metadata": {},
   "source": [
    "6120 REQUIRED\n",
    "----\n",
    "\n",
    "Find a second data set that is labeled for sentiment from a different domain (not movie reivews). Rerun your notebook with this data (you should set up your notebook so that you only need to change the paths and possibly run a different pre-processing function on the data). Note that you will want binary labels.\n",
    "\n",
    "Answer the regular data questions for your new data set\n",
    "----\n",
    "1. Where did you get the data from?\n",
    "We get the data from kaggle.\n",
    "2. How was the data collected (where did the people acquiring the data get it from and how)?\n",
    "The data is collected from twitter. The author doesn't mention how it was collected.\n",
    "3. How large is the dataset (answer for both the train and the dev set, separately)? (# reviews, # tokens in both the train and dev sets)\n",
    "For the training set, there are 25569 reviews and 336636 tokens. For the dev set, there are 6393 reviews and 83943 tokens. \n",
    "4. What is your data? (i.e. newswire, tweets, books, blogs, etc)\n",
    "The data is tweets.\n",
    "5. Who produced the data? (who were the authors of the text? Your answer might be a specific person or a particular group of people)\n",
    "The data is collected from twitter users.\n",
    "6. What is the distribution of labels in the data (answer for both the train and the dev set, separately)?\n",
    "There are 29720 for class 0, and 2242 for class 1.\n",
    "7. How large is the vocabulary (answer for both the train and the dev set, separately)?\n",
    "The vocabulary for train set is 57567. The vocabulary size of dev set is 21244.\n",
    "8. How big is the overlap between the vocabulary for the train and dev set?\n",
    "There are 11589 vocabulary exist in both train and dev set.\n",
    "Answer the model evaluation questions for your new data set\n",
    "----\n",
    "1. When using __10%__ of your data, which model had the highest f1 score?\n",
    "2. Which classifier had the most __consistent__ performance (that is, which classifier had the least variation across all three graphs you have for it -- no need to mathematically calculate this, you can just look at the graphs)?\n",
    "3. For each model, what percentage of training data resulted in the highest f1 score?\n",
    "    1. Naive Bayes:\n",
    "    2. Logistic Regression:\n",
    "    3. Neural Net:\n",
    "4. Which model, if any, appeared to overfit the training data the most? Why?"
   ]
  },
  {
   "cell_type": "code",
   "execution_count": 3,
   "metadata": {},
   "outputs": [],
   "source": [
    "# Feel free to write code to help answer the above questions\n",
    "\n",
    "# get the data from the csv file, I stored the data in [[lists of list of words], [labels]]\n",
    "data = sutils.generate_tuples_from_file(\"twitter.csv\", csvfile=True)\n",
    "\n",
    "# split the data into train set and dev set, this process is not random\n",
    "X_train, X_dev, y_train, y_dev = sutils.train_dev_split(data, train_ratio=0.8)"
   ]
  },
  {
   "cell_type": "code",
   "execution_count": 6,
   "metadata": {},
   "outputs": [
    {
     "name": "stdout",
     "output_type": "stream",
     "text": [
      "There are 25569 reviews in the training set\n",
      "There are 6393 reviews in the dev set\n",
      "There are 336636 tokens in the training set\n",
      "There are 83943 tokens in the dev set\n",
      "Vocabulary size of training set: 57567\n",
      "Vocabulary size of dev set: 21244\n",
      "There are 11589 vocabulary exists in both train and dev data\n"
     ]
    }
   ],
   "source": [
    "# 3\n",
    "# see how many reviews\n",
    "print(f\"There are {len(X_train)} reviews in the training set\")\n",
    "print(f\"There are {len(X_dev)} reviews in the dev set\")\n",
    "\n",
    "num_tokens_train = sum([len(review) for review in X_train])\n",
    "num_tokens_dev = sum([len(review) for review in X_dev])\n",
    "\n",
    "print(f\"There are {num_tokens_train} tokens in the training set\")\n",
    "print(f\"There are {num_tokens_dev} tokens in the dev set\")\n",
    "\n",
    "# 7\n",
    "# get the vocabulary\n",
    "vocab_train = sutils.create_index(X_train)\n",
    "vocab_dev = sutils.create_index(X_dev)\n",
    "\n",
    "print(\"Vocabulary size of training set:\", len(vocab_train))\n",
    "print(\"Vocabulary size of dev set:\", len(vocab_dev))\n",
    "\n",
    "# 8\n",
    "overlap = [vocab for vocab in vocab_dev if vocab in vocab_train]\n",
    "print(f\"There are {len(overlap)} vocabulary exists in both train and dev data\")"
   ]
  },
  {
   "cell_type": "code",
   "execution_count": null,
   "metadata": {},
   "outputs": [],
   "source": [
    "# any code you need to write here"
   ]
  }
 ],
 "metadata": {
  "kernelspec": {
   "display_name": "Python 3 (ipykernel)",
   "language": "python",
   "name": "python3"
  },
  "language_info": {
   "codemirror_mode": {
    "name": "ipython",
    "version": 3
   },
   "file_extension": ".py",
   "mimetype": "text/x-python",
   "name": "python",
   "nbconvert_exporter": "python",
   "pygments_lexer": "ipython3",
   "version": "3.10.9"
  }
 },
 "nbformat": 4,
 "nbformat_minor": 2
}
