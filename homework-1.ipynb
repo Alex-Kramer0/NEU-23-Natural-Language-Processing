{
 "cells": [
  {
   "cell_type": "markdown",
   "metadata": {},
   "source": [
    "Homework 1: Python, Strings, Data, Scale\n",
    "----\n",
    "\n",
    "Due date: September 13th, 2023\n",
    "\n",
    "Points: 42\n",
    "\n",
    "Files to submit:\n",
    "- `data_scale.ipynb`\n",
    "- `yourdatafilefortask3and4` (See task 3. This file will most likely be a `.txt` or `.csv`, but can be any)\n",
    "\n",
    "Goals:\n",
    "- ensure that your python environment is set up and running\n",
    "- learn/review python skills regarding `string`s, data structures, and file manipulation \n",
    "\n",
    "Complete in groups of: __one (individually)__\n",
    "\n",
    "Allowed python modules:\n",
    "- Note that all necessary modules have already been imported for you for this assignment. (you may import any standard python libraries, plotting libraries as you'd like)\n",
    "\n",
    "\n",
    "Instructions:\n",
    "- Complete outlined problems in this notebook. \n",
    "- When you have finished, __clear the kernel__ and run your notebook \"fresh\" from top to bottom. Ensure that there are __no errors__. \n",
    "    - If a problem asks for you to write code that does result in an error (as in, the answer to the problem is an error), leave the code in your notebook but commented out so that running from top to bottom does not result in any errors.\n",
    "- Double check that you have completed Task 0.\n",
    "- Submit your work on Gradescope.\n",
    "- Double check that your submission on Gradescope looks like you believe it should __and__ that all partners are included (for partner work).\n",
    "\n",
    "6120 students: complete __all__ problems.\n",
    "\n",
    "4120 students: you are not required to complete problems marked \"CS 6120 REQUIRED\". If you complete these you will not get extra credit. We will not take points off if you attempt these problems and do not succeed.\n",
    "\n",
    "\n"
   ]
  },
  {
   "cell_type": "markdown",
   "metadata": {},
   "source": [
    "Task 0: Name, References, Reflection (5 points)\n",
    "---\n",
    "\n",
    "TODO: complete this section\n",
    "\n",
    "Name: Alex Kramer\n",
    "\n",
    "References\n",
    "---\n",
    "List the resources you consulted to complete this homework here. Write one sentence per resource about what it provided to you. If you consulted no references to complete your assignment, write a brief sentence stating that this is the case and why it was the case for you.\n",
    "\n",
    "- https://docs.python.org/3/tutorial/datastructures.html\n",
    "    - Read about the the basics and syntax for data structures in python.\n",
    "- https://www.geeksforgeeks.org/plot-multiple-lines-in-matplotlib/#\n",
    "    - Read about syntax for plotting mutiple lines in matplotlib.\n",
    "- https://docs.python.org/3/library/collections.html\n",
    "    - Read about Collections, specifically syntax for Counter and what it does. \n",
    "- https://stackoverflow.com/questions/16503560/read-specific-columns-from-a-csv-file-with-csv-module\n",
    "    - Forgot how to read in one column, looked syntax.\n",
    "\n",
    "\n",
    "AI Collaboration\n",
    "---\n",
    "\n",
    "Please do not use large language models for this assignment. If you are using co-pilot, this is acceptable but *make sure* you test your code. For all future assignments, follow the AI Collaboration Policy, to be published during the second week of class.\n",
    "\n",
    "Reflection\n",
    "----\n",
    "Answer the following questions __after__ you complete this assignment (no more than 1 sentence per question required, this section is graded on completion):\n",
    "\n",
    "1. Does this work reflect your best effort?\n",
    "2. What was/were the most challenging part(s) of the assignment?\n",
    "questions felt like they didnt have enough info, felt like I was kinda guessing on what I was supposded to do? \n",
    "figuring out that I needed to test the time it takes for the number of items \n",
    "3. If you want feedback, what function(s) or problem(s) would you like feedback on and why?\n",
    "\n",
    "\n",
    "\n"
   ]
  },
  {
   "cell_type": "markdown",
   "metadata": {},
   "source": [
    "Task 1: Python Warm-up (8 points)\n",
    "----\n",
    "\n",
    "We'll warm-up by either learning about or reviewing `string`s, `for` loops, `range()`, and `list`s.\n",
    "\n",
    "Links to relevant documentation:\n",
    "- [strings](https://docs.python.org/3/library/string.html)\n",
    "- [Felix's notes on strings](https://muzny.github.io/csci1200-notes/03/5/strings.html)\n",
    "- [for loops](https://wiki.python.org/moin/ForLoop)\n",
    "- [Felix's notes on for loops](https://muzny.github.io/csci1200-notes/08/1/for_loops_basics.html)\n",
    "- [lists](https://docs.python.org/3/tutorial/datastructures.html)\n",
    "- [Felix's notes on lists](https://muzny.github.io/csci1200-notes/07/1/lists_basics.html)"
   ]
  },
  {
   "cell_type": "code",
   "execution_count": 1,
   "metadata": {},
   "outputs": [
    {
     "name": "stdout",
     "output_type": "stream",
     "text": [
      "s\n",
      "t\n",
      "r\n",
      "i\n",
      "n\n",
      "g\n"
     ]
    }
   ],
   "source": [
    "# define a string variable, then\n",
    "# using a for loop, iterate through the letters of a string\n",
    "word = 'string'\n",
    "\n",
    "for letter in word:\n",
    "    print(letter)"
   ]
  },
  {
   "cell_type": "code",
   "execution_count": 2,
   "metadata": {},
   "outputs": [
    {
     "name": "stdout",
     "output_type": "stream",
     "text": [
      "1\n",
      "2\n",
      "3\n",
      "4\n"
     ]
    }
   ],
   "source": [
    "# define a list variable, then\n",
    "# using a for loop, iterate through the contents of a list\n",
    "lis = [1, 2, 3, 4]\n",
    "\n",
    "for item in lis:\n",
    "    print(item)"
   ]
  },
  {
   "cell_type": "code",
   "execution_count": 3,
   "metadata": {},
   "outputs": [
    {
     "name": "stdout",
     "output_type": "stream",
     "text": [
      "hello\n",
      "my\n",
      "is\n"
     ]
    }
   ],
   "source": [
    "# define a string variable, then\n",
    "# using a for loop and the range() function, print out every other token \n",
    "# (you may assume tokens are separated by spaces) in the string\n",
    "\n",
    "string = 'hello world my name is alex'\n",
    "\n",
    "split = string.split()\n",
    "\n",
    "for i in range(0, len(split), 2):\n",
    "    print(split[i])"
   ]
  },
  {
   "cell_type": "code",
   "execution_count": 4,
   "metadata": {},
   "outputs": [
    {
     "name": "stdout",
     "output_type": "stream",
     "text": [
      "The original string is:  Hello world, my name is alex. \n",
      "\n",
      "Testing Pythons str.split() function:  ['Hello', 'world,', 'my', 'name', 'is', 'alex.'] \n",
      "\n",
      "Testing Pythons str.split(' ') function:  ['Hello', 'world,', 'my', 'name', 'is', 'alex.'] \n",
      "\n",
      "Looks like there is no differences, lets test some other cases.\n",
      "\n",
      "\n",
      "The new string is:  I addded   empty  spaces to  find the differences   \n",
      "\n",
      "Testing Pythons str.split() function:  ['I', 'addded', 'empty', 'spaces', 'to', 'find', 'the', 'differences'] \n",
      "\n",
      "Testing Pythons str.split(' ') function:  ['I', 'addded', '', '', 'empty', '', 'spaces', 'to', '', 'find', 'the', 'differences', '', ''] \n",
      "\n",
      "\n",
      "Looks like str.split() will not include spaces and indents in the list,\n",
      "whereas str.split(' ') will include the spaces and indents in the list.\n",
      "\n"
     ]
    }
   ],
   "source": [
    "# demonstrate the difference(s) between calling python's \n",
    "# str.split() function like str.split(' ') and str.split()\n",
    "\n",
    "string = 'Hello world, my name is alex.'\n",
    "print('The original string is: ', string, '\\n')\n",
    "\n",
    "print('Testing Pythons str.split() function: ', string.split(), '\\n')\n",
    "\n",
    "print('Testing Pythons str.split(\\' \\') function: ', string.split(' '), '\\n')\n",
    "\n",
    "print('Looks like there is no differences, lets test some other cases.\\n\\n')\n",
    "\n",
    "\n",
    "string = 'I addded   empty  spaces to  find the differences  '\n",
    "print('The new string is: ', string, '\\n')\n",
    "\n",
    "print('Testing Pythons str.split() function: ', string.split(), '\\n')\n",
    "\n",
    "print('Testing Pythons str.split(\\' \\') function: ', string.split(' '), '\\n\\n')\n",
    "\n",
    "print('Looks like str.split() will not include spaces and indents in the list,')\n",
    "print('whereas str.split(\\' \\') will include the spaces and indents in the list.\\n')"
   ]
  },
  {
   "cell_type": "markdown",
   "metadata": {},
   "source": [
    "Task 2: Timing Python Functions (15 points)\n",
    "----\n",
    "\n",
    "In this section, we'll explore efficiency and python data structures.\n",
    "You'll work on increasing your familiarity with `list`s, `dict`s, and [`Counter`](https://docs.python.org/3/library/collections.html#collections.Counter)s.\n",
    "\n",
    "Notice that in our python function headers, we include [type hints](https://docs.python.org/3/library/typing.html)."
   ]
  },
  {
   "cell_type": "code",
   "execution_count": 40,
   "metadata": {},
   "outputs": [],
   "source": [
    "# for timing\n",
    "import time\n",
    "\n",
    "# for our fancier data structure\n",
    "from collections import Counter\n",
    "\n",
    "# for type hinting\n",
    "from typing import Callable\n",
    "\n",
    "# for graphing\n",
    "import matplotlib.pyplot as plt\n",
    "\n",
    "# for random number generation\n",
    "import random"
   ]
  },
  {
   "cell_type": "code",
   "execution_count": 41,
   "metadata": {},
   "outputs": [
    {
     "name": "stdout",
     "output_type": "stream",
     "text": [
      "That took: 9.5367431640625e-07 seconds!\n"
     ]
    }
   ],
   "source": [
    "# provided\n",
    "def timer(fun: Callable, tokens: list) -> float:\n",
    "    \"\"\"\n",
    "    measure (in seconds) the time that it takes to run a\n",
    "    function that operates on a list of strings (tokens)\n",
    "\n",
    "    Args:\n",
    "    fun: Callable\n",
    "    tokens: list\n",
    "\n",
    "    return:\n",
    "    float (seconds)\n",
    "    \"\"\"\n",
    "    start = time.time()\n",
    "    fun(tokens)\n",
    "    end = time.time()\n",
    "    return end - start\n",
    "\n",
    "# call like \n",
    "# len is the funtion that is being timed\n",
    "print(\"That took:\", timer(len, [\"this\", \"is\", \"a\", \"test\"]), \"seconds!\")"
   ]
  },
  {
   "cell_type": "code",
   "execution_count": 42,
   "metadata": {},
   "outputs": [],
   "source": [
    "# TODO: implement the following functions (function signatures are provided for you)\n",
    "\n",
    "def count_list(tokens: list) -> dict:\n",
    "    \"\"\"\n",
    "    Count the number of occurrences of each token in a list of tokens.\n",
    "    Use the list.count() method.\n",
    "\n",
    "    Args:\n",
    "    tokens: list of items (often tokens)\n",
    "\n",
    "    return:\n",
    "    dict (mapping from token to count)\n",
    "    \"\"\"\n",
    "    # define a dictionary\n",
    "    dictionary = {}\n",
    "    \n",
    "    # for each word in the sentence\n",
    "    for word in tokens:  \n",
    "        if word not in dictionary:\n",
    "            # count each time the word appears\n",
    "            count = tokens.count(word)\n",
    "            dictionary[word] = count\n",
    "            # add the word with the count to the dictionary\n",
    "    return dictionary\n",
    "    \n",
    "def count_dict(tokens: list) -> dict:\n",
    "    \"\"\"\n",
    "    Count the number of occurrences of each token in a list of tokens.\n",
    "    Do not use the list.count() method. Do not use a Counter.\n",
    "    If you would like to use any method/function other than len, it must be\n",
    "    okay'd with the teaching staff.\n",
    "\n",
    "    Args:\n",
    "    tokens: list of items (often tokens)\n",
    "\n",
    "    return:\n",
    "    dict (mapping from token to count)\n",
    "    \"\"\"\n",
    "    # create a dictionary\n",
    "    dictionary = {}\n",
    "    # for each word in the sentence\n",
    "    for word in tokens:\n",
    "        if word in dictionary:\n",
    "            # if word is in dictionary then add +1 to word count\n",
    "            dictionary[word] = dictionary[word] + 1\n",
    "        else:\n",
    "            # if word is not in dictionary then add the word to the dictionary\n",
    "            dictionary[word] = 1\n",
    "    return dictionary\n",
    "\n",
    "def count_counter(tokens: list) -> Counter:\n",
    "    \"\"\"\n",
    "    Count the number of occurrences of each token in a list of tokens.\n",
    "    Use a Counter.\n",
    "    Do not use the list.count() method or any other list/dict functions/methods.\n",
    "\n",
    "    Args:\n",
    "    tokens: list of items (often tokens)\n",
    "\n",
    "    return:\n",
    "    Counter (mapping from token to count)\n",
    "    \"\"\"\n",
    "    # calls the counter function\n",
    "    cnt = Counter()\n",
    "    for word in tokens:\n",
    "    # for each words in tokens\n",
    "        cnt[word] += 1\n",
    "        # call the counter on each word\n",
    "    return(cnt)"
   ]
  },
  {
   "cell_type": "code",
   "execution_count": 43,
   "metadata": {},
   "outputs": [
    {
     "name": "stdout",
     "output_type": "stream",
     "text": [
      "Testing function with NO duplicates tokens. Tokens:  ['hi', 'my', 'name', 'is', 'Alex'] \n",
      "\n",
      "Testing count_list:  {'hi': 1, 'my': 1, 'name': 1, 'is': 1, 'Alex': 1} \n",
      "\n",
      "Testing count_list:  {'hi': 1, 'my': 1, 'name': 1, 'is': 1, 'Alex': 1} \n",
      "\n",
      "Testing count_dict:  {'hi': 1, 'my': 1, 'name': 1, 'is': 1, 'Alex': 1} \n",
      "\n",
      "Testing count_counter:  Counter({'hi': 1, 'my': 1, 'name': 1, 'is': 1, 'Alex': 1}) \n",
      "\n",
      "\n",
      "Testing function with duplicate tokens. Tokens:  ['hi', 'hi', 'my', 'name', 'is', 'Alex', 'Alex'] \n",
      "\n",
      "Testing count_list:  {'hi': 2, 'my': 1, 'name': 1, 'is': 1, 'Alex': 2} \n",
      "\n",
      "Testing count_dict:  {'hi': 2, 'my': 1, 'name': 1, 'is': 1, 'Alex': 2} \n",
      "\n",
      "Testing count_counter:  Counter({'hi': 2, 'Alex': 2, 'my': 1, 'name': 1, 'is': 1}) \n",
      "\n"
     ]
    }
   ],
   "source": [
    "# TODO: verify that your count_* functions are correct and consistent with one another\n",
    "\n",
    "# Make sure to test both if the list does not have duplicates and if it does\n",
    "\n",
    "tokens = ['hi', 'my', 'name', 'is', 'Alex']\n",
    "print('Testing function with NO duplicates tokens. Tokens: ', tokens, '\\n')\n",
    "print('Testing count_list: ', count_list(tokens), '\\n')\n",
    "print('Testing count_list: ', count_list(tokens), '\\n')\n",
    "print('Testing count_dict: ', count_dict(tokens), '\\n')\n",
    "print('Testing count_counter: ', count_counter(tokens), '\\n\\n')\n",
    "\n",
    "tokens = ['hi', 'hi', 'my', 'name', 'is', 'Alex', 'Alex']\n",
    "print('Testing function with duplicate tokens. Tokens: ', tokens, '\\n')\n",
    "print('Testing count_list: ', count_list(tokens), '\\n')\n",
    "print('Testing count_dict: ', count_dict(tokens), '\\n')\n",
    "print('Testing count_counter: ', count_counter(tokens), '\\n')"
   ]
  },
  {
   "cell_type": "code",
   "execution_count": 110,
   "metadata": {},
   "outputs": [
    {
     "data": {
      "image/png": "[encoded data removed]",
      "text/plain": [
       "<Figure size 640x480 with 1 Axes>"
      ]
     },
     "metadata": {},
     "output_type": "display_data"
    }
   ],
   "source": [
    "# TODO: create a graph with three lines, one for each of the three count_* functions\n",
    "# x-axis should be the number of items in the list given to the function (go up to at least 500)\n",
    "# y-axis should be the time taken to run the function\n",
    "# the graph should have a legend indicating which line is which (use plt.legend() to make this happen)\n",
    "\n",
    "# you'll need to generate one (or more) list(s) of items to be counted.\n",
    "# we recommend using the random module to generate random integers\n",
    "\n",
    "# define list length range\n",
    "list_lengths = list(range(1, 501))\n",
    "\n",
    "# define lists for each function we are testing\n",
    "# this is to store the timing the results\n",
    "timings_count_list = {}\n",
    "timings_count_dict = {}\n",
    "timings_count_counter = {}\n",
    "\n",
    "# create random list of tokens within our range\n",
    "tokens = [random.randint(0, 10) for _ in range(501)]\n",
    "\n",
    "# goal: measure the time it takes for each function\n",
    "for list_length in list_lengths:\n",
    "    sublist = tokens[:list_length]  # take the first \n",
    "    \n",
    "    # measure time for count_list\n",
    "    timing_count_list = timer(count_list, sublist)\n",
    "    timings_count_list[list_length] = timing_count_list\n",
    "    \n",
    "    # measure time for count_dict\n",
    "    timing_count_dict = timer(count_dict, sublist)\n",
    "    timings_count_dict[list_length] = timing_count_dict\n",
    "    \n",
    "    # measure time for count_counter\n",
    "    timing_count_counter = timer(count_counter, sublist)\n",
    "    timings_count_counter[list_length] = timing_count_counter\n",
    "\n",
    "# plot\n",
    "plt.plot(list_lengths, list(timings_count_list.values()), label=\"count_list\")\n",
    "plt.plot(list_lengths, list(timings_count_dict.values()), label=\"count_dict\")\n",
    "plt.plot(list_lengths, list(timings_count_counter.values()), label=\"count_counter\")\n",
    "\n",
    "plt.xlabel(\"Number of Tokens\")\n",
    "plt.ylabel(\"Time (Seconds)\")\n",
    "plt.legend()\n",
    "plt.title(\"Time (Seconds) vs. Length\")\n",
    "plt.show()"
   ]
  },
  {
   "cell_type": "markdown",
   "metadata": {},
   "source": [
    "Task 3: Real World Data (8 points)\n",
    "----\n",
    "\n",
    "In this section, you'll find some real world text data *of interest to you* and run some analysis on this data. The data that you choose can include labels, but if it does, do not include those labels in your counts of tokens, etc.\n",
    "\n",
    "\n",
    "Size requirements:\n",
    "- your file must contain a minimum of 10,000 tokens (as measured by at least *one* of your tokenization schemes).\n",
    "\n",
    "\n",
    "Key vocabulary:\n",
    "\n",
    "__token__: The unit that we will operate on when processing text. Normally corresponds roughly to \"words\". We will focus on tokens during Lecture 2."
   ]
  },
  {
   "cell_type": "code",
   "execution_count": 50,
   "metadata": {},
   "outputs": [],
   "source": [
    "# TODO\n",
    "# the file should be in the same folder as this notebook because when you \n",
    "# submit this notebook, you will also submit the file and the backend of the \n",
    "# system expects them to be in the same directory\n",
    "FILE = \"job_postings.csv\"\n",
    "import csv"
   ]
  },
  {
   "cell_type": "code",
   "execution_count": 111,
   "metadata": {},
   "outputs": [],
   "source": [
    "# read the contents of your file in, however you'd like\n",
    "\n",
    "# open the file --> for each line in the file --> read it all into a list? \n",
    "\n",
    "# define the list\n",
    "data = []\n",
    "\n",
    "# open the CSV file for reading\n",
    "with open(FILE, 'r') as file:\n",
    "    text = csv.reader(file)\n",
    "    \n",
    "    # loop through the rows in the CSV file\n",
    "    for row in text:\n",
    "        # for each row, appened it to our list\n",
    "        data.append(row)"
   ]
  },
  {
   "cell_type": "code",
   "execution_count": 86,
   "metadata": {},
   "outputs": [
    {
     "name": "stdout",
     "output_type": "stream",
     "text": [
      "Total number of lines in the data: 15887\n"
     ]
    }
   ],
   "source": [
    "# how many lines are in your file?\n",
    "\n",
    "print(\"Total number of lines in the data:\", len(data))\n"
   ]
  },
  {
   "cell_type": "code",
   "execution_count": 112,
   "metadata": {
    "scrolled": true
   },
   "outputs": [],
   "source": [
    "# wrote a function to tokenize and count the tokens\n",
    "def tokenize_and_count(row):\n",
    "    tokens_count = 0\n",
    "    for value in row:\n",
    "        tokens = value.split()  # split using .split()\n",
    "        tokens_count += len(tokens)\n",
    "    return tokens_count\n",
    "\n",
    "# store token count\n",
    "total_tokens = 0\n",
    "\n",
    "# loop through each row in the data\n",
    "for row in data:\n",
    "    # for each row count the tokens\n",
    "    tokens_count = tokenize_and_count(row)\n",
    "    # add to token count\n",
    "    total_tokens += tokens_count"
   ]
  },
  {
   "cell_type": "code",
   "execution_count": 105,
   "metadata": {},
   "outputs": [
    {
     "name": "stdout",
     "output_type": "stream",
     "text": [
      "Total number of tokens in the data: 8484350\n"
     ]
    }
   ],
   "source": [
    "print(\"Total number of tokens in the data:\", total_tokens)"
   ]
  },
  {
   "cell_type": "markdown",
   "metadata": {},
   "source": [
    "__CS 6120 REQUIRED__\n",
    "\n",
    "Find five specific examples of difficult-to-tokenize sequences of letters in your data.\n",
    "- Example 1: 'and/or'\n",
    "- Example 2: 'Bakery®.'\n",
    "- Example 3: 'tightlyProperly'\n",
    "- Example 4: '(GMP).Apply\n",
    "- Example 5:  'organizedUnderstanding'\n",
    "\n",
    "If you do not complete this portion and are in 6120, this will result in a deduction in your Task 3 score.\n"
   ]
  },
  {
   "cell_type": "markdown",
   "metadata": {},
   "source": [
    "Task 4: Data Write-Up (6 points)\n",
    "---\n",
    "\n",
    "Every time you use a data set in an NLP application (or in any software application), you should be able to answer a set of questions about that data. Answer these now. Default to no more than 1 sentence per question needed. If more explanation is necessary, do give it.\n"
   ]
  },
  {
   "cell_type": "markdown",
   "metadata": {},
   "source": [
    "1. Where did you get the data from?\n",
    "https://www.kaggle.com/datasets/arshkon/linkedin-job-postings\n",
    "I got this data from Kaggle. This is a publically avaible dataset. \n",
    "\n",
    "2. How was the data collected (where did the people acquiring the data get it from and how)?\n",
    "This data was collected from LinkedIn's backend API. The collector retrieved the most recent job posting and their attributes. This is not a comprehensive dataset, the collector ran it for less than 24 hours.  \n",
    "\n",
    "3. How large is the dataset? (copy # of lines and # of tokens from above)\n",
    "15887 lines in the dataset and 8484350 tokens in the dataset. \n",
    "\n",
    "4. Is your dataset a subset of a larger dataset or the entirety of a dataset? (e.g. the first half of reviews from the dataset.... vs. all reviews from ...)\n",
    "A subset of the dataset. The entire dataset included company descriptiors, and applicant informations.\n",
    "5. What is your data? (i.e. newswire, tweets, books, blogs, etc)\n",
    "LinkedIn job posting \n",
    "\n",
    "6. Who produced the data? (who were the authors of the text? Your answer might be a specific person or a particular group of people)\n",
    "Arsh Kon, Kaggle user.\n"
   ]
  },
  {
   "cell_type": "markdown",
   "metadata": {},
   "source": []
  }
 ],
 "metadata": {
  "kernelspec": {
   "display_name": "Python 3 (ipykernel)",
   "language": "python",
   "name": "python3"
  },
  "language_info": {
   "codemirror_mode": {
    "name": "ipython",
    "version": 3
   },
   "file_extension": ".py",
   "mimetype": "text/x-python",
   "name": "python",
   "nbconvert_exporter": "python",
   "pygments_lexer": "ipython3",
   "version": "3.10.9"
  }
 },
 "nbformat": 4,
 "nbformat_minor": 2
}
