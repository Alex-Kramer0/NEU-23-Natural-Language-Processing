{
 "cells": [
  {
   "cell_type": "markdown",
   "metadata": {},
   "source": [
    "Homework 3: n-gram LM\n",
    "----\n",
    "\n",
    "Due date: October 4th, 2023\n",
    "\n",
    "Points: 100\n",
    "\n",
    "Goals:\n",
    "- understand the difficulties of counting and probablities in NLP applications\n",
    "- work with real world data to build a functioning language model\n",
    "- stress test your model (to some extent)\n",
    "\n",
    "Complete in groups of: __one (individually)__\n",
    "\n",
    "Allowed python modules:\n",
    "- `numpy`, `matplotlib`, and all built-in python libraries (e.g. `math` and `string`)\n",
    "- do not use `nltk` or `pandas`\n",
    "\n",
    "Instructions:\n",
    "- Complete outlined problems in this notebook. \n",
    "- When you have finished, __clear the kernel__ and __run__ your notebook \"fresh\" from top to bottom. Ensure that there are __no errors__. \n",
    "    - If a problem asks for you to write code that does result in an error (as in, the answer to the problem is an error), leave the code in your notebook but commented out so that running from top to bottom does not result in any errors.\n",
    "- Double check that you have completed Task 0.\n",
    "- Submit your work on Gradescope.\n",
    "- Double check that your submission on Gradescope looks like you believe it should __and__ that all partners are included (for partner work).\n",
    "\n",
    "6120 students: complete __all__ problems.\n",
    "\n",
    "4120 students: you are not required to complete problems marked \"CS 6120 REQUIRED\". If you complete these you will not get extra credit. We will not take points off if you attempt these problems and do not succeed."
   ]
  },
  {
   "cell_type": "markdown",
   "metadata": {},
   "source": [
    "Task 0: Name, References, Reflection (5 points)\n",
    "---\n",
    "\n",
    "Name: Alex Kramer\n",
    "\n",
    "References\n",
    "---\n",
    "List the resources you consulted to complete this homework here. Write one sentence per resource about what it provided to you. If you consulted no references to complete your assignment, write a brief sentence stating that this is the case and why it was the case for you.\n",
    "\n",
    "(Example)\n",
    "- https://docs.python.org/3/tutorial/datastructures.html\n",
    "    - Read about the the basics and syntax for data structures in python.\n",
    "- https://towardsdatascience.com/understanding-word-n-grams-and-n-gram-probability-in-natural-language-processing-9d9eef0fa058\n",
    "- https://www.youtube.com/watch?v=tx4OOr9hhlY\n",
    "    - Watched a video on Bigram LM Code in Python, looking to understand the structure of the code provided. \n",
    "    - Explained utilizing dictionaries as the chosen data structure for keeping running counts of each bigram. \n",
    "- https://www.tutorialspoint.com/How-to-insert-new-keys-values-into-Python-dictionary#:~:text=To%20insert%20new%20keys%2Fvalues%20into%20a%20Dictionary%2C%20use%20the,the%20new%20pair%20gets%20inserted.\n",
    "    - Looking at syntax of Python dictionaries.\n",
    "- https://eliteai.medium.com/building-n-gram-language-model-from-scratch-9a5ec206b520\n",
    "    - Read article on building ngram models from scratch. It helped me understand the data structures they used.\n",
    "- https://github.com/Elucidation/Ngram-Tutorial/blob/master/NgramTutorial.ipynb\n",
    "    - Used to understand the concept of nested dictionaries in terms of ngrams\n",
    "- https://towardsdatascience.com/evaluation-of-language-models-through-perplexity-and-shannon-visualization-method-9148fbe10bd0\n",
    "    - They basically wrote about Complexity from the textbook using a slightly different explaination. \n",
    "- https://www1.icsi.berkeley.edu/Speech/berp.html\n",
    "    - The Berkeley Restaurant Project homepage. \n",
    "- https://www.geeksforgeeks.org/how-to-get-weighted-random-choice-in-python/\n",
    "    - Understanding how to randomly choose an option that has a weight assigned to it.\n",
    "\n",
    "    \n",
    "AI Collaboration\n",
    "---\n",
    "Following the *AI Collaboration Policy* in the syllabus, please cite any LLMs that you used here and briefly describe what you used them for. Additionally, provide comments in-line identifying the specific sections that you used LLMs on, if you used them towards the generation of any of your answers.\n",
    "- ChatGPT \n",
    "    - Asked it questions about pyhon syntax, specifically on the __init__ method, and other class related functionalities. Such as the understanding why methods shouldn't return things to be called in other functions, how to nest a function in a method and that you should try and just create self.'s to save things for easier access.\n",
    "\n",
    "Reflection\n",
    "----\n",
    "Answer the following questions __after__ you complete this assignment (no more than 1 sentence per question required, this section is graded on completion):\n",
    "\n",
    "1. Does this work reflect your best effort?\n",
    "__This work reflects a lot of effort, I think it is hard to claim that it is my best work. I am using my late pass on this homework because I wanted more time to work on solving issues in my code to make it work better with the auto grader. I worked extremly hard on this assignment, however now that I am done with it I know there are other ways I could have done things / structured thing differently to make it work more efficent.__\n",
    "\n",
    "2. What was/were the most challenging part(s) of the assignment?\n",
    "__For me the most challenging aspect of the homework has been how to best store and structure the counts (the data structures). I also struggled with working in a class rather than just functions and a main.__\n",
    "__data structures, working in a class, figuring out how to index into a dict of tuples, random choice \n",
    "\n",
    "3. If you want feedback, what function(s) or problem(s) would you like feedback on and why?\n"
   ]
  },
  {
   "cell_type": "markdown",
   "metadata": {},
   "source": [
    "Task 1: Berp Data Write-Up (5 points)\n",
    "---\n",
    "\n",
    "Every time you use a data set in an NLP application (or in any software application), you should be able to answer a set of questions about that data. Answer these now. Default to no more than 1 sentence per question needed. If more explanation is necessary, do give it."
   ]
  },
  {
   "cell_type": "markdown",
   "metadata": {},
   "source": [
    "This is about the __berp__ data set.\n",
    "\n",
    "1. Where did you get the data from? https://www1.icsi.berkeley.edu/Speech/berp.html\n",
    "\n",
    "2. How was the data collected (where did the people acquiring the data get it from and how)? __The dataset contains queries from users - the system collecting the data prompts the user for information in order to fill up the database query slots, but the user is not guarenteed or required to respond to the question asked. __\n",
    "\n",
    "3. How large is the dataset? (# lines, # tokens)__According to the BERP website the dataset 'currently contains approximately 7500 sentences, with 1500 words, comprising 6.4 hours of speech.'__\n",
    "\n",
    "4. What is your data? (i.e. newswire, tweets, books, blogs, etc) __The data is a collection of search queries from users related to resturants in Berkeley, CA. __\n",
    "\n",
    "5. Who produced the data? (who were the authors of the text? Your answer might be a specific person or a particular group of people) __The data was developed by the Internation Computer Science Institute in Berkeley, CA. The project was headed by Nelson Morgan, with research papers being written by D. Jurafsky.__"
   ]
  },
  {
   "cell_type": "markdown",
   "metadata": {},
   "source": [
    "Task 2: Implement an n-gram Language Model (90 points)\n",
    "----\n",
    "\n",
    "Implement the `LanguageModel` class as outlined in the provided `lm_starter.py` file. Do not change function signatures (the unit tests that we provide and in the autograder will break).\n",
    "\n",
    "Your language model:\n",
    "- *must* work for both the unigram and bigram cases (5 points are allocated to an experiment involving larger values of `n`)\n",
    "    - 6120 students must create a model that works for trigram cases as well\n",
    "    - hint: try to implement the bigram case as a generalized \"n greater than 1\" case\n",
    "- should be *token agnostic* (this means that if we give the model text tokenized as single characters, it will function as a character language model and if we give the model text tokenized as \"words\" (or \"traditionally\"), then it will function as a language model with those tokens)\n",
    "- will use Laplace smoothing\n",
    "- will replace all tokens that occur only once with `<UNK>` at train time\n",
    "    - do not add `<UNK>` to your vocabulary if no tokens in the training data occur only once!\n",
    "\n",
    "We have provided:\n",
    "- a function to read in files\n",
    "- some functions to change a list of strings into tokens\n",
    "- the skeleton of the `LanguageModel` class\n",
    "\n",
    "You need to implement:\n",
    "- all functions marked\n",
    "\n",
    "You may implement:\n",
    "- additional functions/methods as helpful to you\n",
    "\n",
    "As a guideline, including comments, all code required for CS 6120 and some debugging code that can be run with `verbose` parameters, our solution is ~300 lines. (~+120 lines versus the starter code).\n",
    "\n",
    "Points breakdown marked in code below."
   ]
  },
  {
   "cell_type": "code",
   "execution_count": null,
   "metadata": {},
   "outputs": [],
   "source": [
    "# rename your lm_starter.py file to lm_model.py and put in the same directory as this file\n",
    "import lm_model as lm\n",
    "import numpy as np\n",
    "import matplotlib.pyplot as plt\n",
    "import math"
   ]
  },
  {
   "cell_type": "code",
   "execution_count": null,
   "metadata": {
    "scrolled": true
   },
   "outputs": [],
   "source": [
    "# test the language model (unit tests)\n",
    "import test_minitrainingprovided as test\n",
    "\n",
    "# passing all these tests is a good indication that your model\n",
    "# is correct. They are *not a guarantee*, so make sure to look\n",
    "# at the tests and the cases that they cover. (we'll be testing\n",
    "# your model against all of the testing data in addition).\n",
    "\n",
    "# autograder points in gradescope are assigned SIXTY points\n",
    "# this is essentially 60 points for correctly implementing your\n",
    "# underlying model\n",
    "# there are an additional 10 points manually graded for the correctness\n",
    "# parts of your sentence generation\n",
    "\n",
    "# make sure all training files are in a \"training_files\" directory \n",
    "# that is in the same directory as this notebook\n",
    "\n",
    "unittest = test.TestMiniTraining()\n",
    "unittest.test_createunigrammodellaplace()\n",
    "unittest.test_createbigrammodellaplace()\n",
    "unittest.test_unigramlaplace()\n",
    "unittest.test_unigramunknownslaplace()\n",
    "unittest.test_bigramlaplace()\n",
    "unittest.test_bigramunknownslaplace()\n",
    "# produces output\n",
    "unittest.test_generateunigramconcludes()\n",
    "# produces output\n",
    "unittest.test_generatebigramconcludes()\n",
    "\n",
    "unittest.test_onlyunknownsgenerationandscoring()"
   ]
  },
  {
   "cell_type": "code",
   "execution_count": null,
   "metadata": {
    "scrolled": true
   },
   "outputs": [],
   "source": [
    "# 5 points\n",
    "\n",
    "# instantiate a bigram language model, train it, and generate ten sentences\n",
    "# make sure your output is nicely formatted!\n",
    "\n",
    "ngram = 2\n",
    "training_file_path = \"training_files/berp-training.txt\"\n",
    "# optional parameter tells the tokenize function how to tokenize\n",
    "by_char = False\n",
    "data = lm.read_file(training_file_path)\n",
    "tokens = lm.tokenize(data, ngram, by_char=by_char)\n",
    "\n",
    "LM = lm.LanguageModel(ngram) # call class - assign to LM \n",
    "LM.train(tokens) # train  \n",
    "\n",
    "sentences = LM.generate(10)\n",
    "\n",
    "for i in range(len(sentences)):\n",
    "    print('\\nSentence: ', i + 1,'    ', sentences[i])\n",
    "    print('\\nScore: ', LM.score(sentences[i]), '\\n')"
   ]
  },
  {
   "cell_type": "code",
   "execution_count": null,
   "metadata": {
    "scrolled": true
   },
   "outputs": [],
   "source": [
    "# 5 points\n",
    "\n",
    "# evaluate your bigram model on the test data\n",
    "# score each line in the test data individually, then calculate the average score\n",
    "# you need not re-train your model\n",
    "test_path = \"testing_files/berp-test.txt\"\n",
    "test_data = lm.read_file(test_path)\n",
    "\n",
    "scores = []\n",
    "\n",
    "# YOUR CODE HERE\n",
    "sentences = LM.generate(10)\n",
    "\n",
    "for i in range(len(sentences)):\n",
    "    line_score = LM.score(sentences[i])\n",
    "    scores.append(line_score)\n",
    "    \n",
    "# Print out the mean score and standard deviation\n",
    "# for words-as-tokens, these values should be\n",
    "# ~4.9 * 10^-5 and 0.000285\n",
    "\n",
    "# mean\n",
    "mean_score = sum(scores) / len(scores)\n",
    "\n",
    "# standard deviation\n",
    "variance = sum((x - mean_score) ** 2 for x in scores) / len(scores)\n",
    "std_dev = math.sqrt(variance)\n",
    "\n",
    "\n",
    "print(\"Mean Score:\", mean_score)\n",
    "print(\"Standard Deviation:\", std_dev)"
   ]
  },
  {
   "cell_type": "code",
   "execution_count": null,
   "metadata": {},
   "outputs": [],
   "source": [
    "# 5 points\n",
    "\n",
    "# see if you can train your model on the data you found for your first homework\n",
    "\n",
    "path = 'testing_files/job_postings.csv'\n",
    "contents = lm.read_file(path)\n",
    "n = 1\n",
    "tokens = lm.tokenize(contents, n, by_char=False)\n",
    "\n",
    "LM = lm.LanguageModel(n)\n",
    "\n",
    "LM.train(tokens) ### TAKES TOO LONG, SEE NOTES BELOW, this dataset is easily over 250,000 lines\n",
    "LM.generate(3)\n"
   ]
  },
  {
   "cell_type": "markdown",
   "metadata": {},
   "source": [
    "### The data I used in HW 1, appears to be far to big for this task. I was able to tokenize the data but was not able to train the model in less than 10 mins- I let it run for about 15 mins. Below I look at how many sentences I can generate with n <= 10, using the Berp Training Data. \n",
    "\n",
    "#### My data from HW 1 is over 250,000 lines."
   ]
  },
  {
   "cell_type": "code",
   "execution_count": null,
   "metadata": {},
   "outputs": [],
   "source": [
    "# 5 points\n",
    "\n",
    "# see if you can train your model on the data you found for your first homework\n",
    "\n",
    "path = 'training_files/berp-training.txt'\n",
    "contents = lm.read_file(path)\n",
    "\n",
    "n = 10\n",
    "tokens = lm.tokenize(contents, n, by_char=False)\n",
    "LM = lm.LanguageModel(n)\n",
    "tokens = lm.tokenize(contents, n, by_char=False)\n",
    "LM.train(tokens)\n",
    "sentences = LM.generate(3)\n",
    "\n",
    "for i in range(len(sentences)):\n",
    "    print('\\nSentence: ', i + 1,'    ', sentences[i])\n",
    "\n",
    "# what is the maximum value of n <= 10 that you can train a model *in your programming environment* in a reasonable amount of time? (less than 3 - 5 minutes)\n",
    "print('\\nWhile using the provided BERP data, due to the size of the data I submitted in HW 1, I can easily reach n=10.')\n",
    "\n",
    "   "
   ]
  },
  {
   "cell_type": "markdown",
   "metadata": {},
   "source": [
    "CS 6120 REQUIRED\n",
    "----\n",
    "Implement the corresponding function and evaluate the perplexity of your model on the first 20 lines in the test data for values of `n` from 1 to 3. Perplexity should be individually calculated for each line."
   ]
  },
  {
   "cell_type": "code",
   "execution_count": null,
   "metadata": {},
   "outputs": [],
   "source": [
    "training_file_path = \"training_files/berp-training.txt\"\n",
    "by_char = False\n",
    "data = lm.read_file(training_file_path)\n",
    "\n",
    "\n",
    "for ngram in range(1, 4):\n",
    "    # Formatting\n",
    "    print(\"********\")\n",
    "    print(\"Ngram model:\", ngram)\n",
    "    LM = lm.LanguageModel(ngram)\n",
    "    \n",
    "    # Test first 20 lines\n",
    "    for line in data[:20]:\n",
    "        \n",
    "        # Tokenize & Train on the needed ngram\n",
    "        tokens = lm.tokenize(line, ngram, by_char=by_char) \n",
    "        LM.train(tokens) \n",
    "        \n",
    "        \n",
    "        # Get Perplexity & Print \n",
    "        perplexity = LM.perplexity(tokens) # gets perplexity score for the line\n",
    "        print(\"Sentence:\", line)\n",
    "        print('Perplexity for line: ', perplexity, '\\n')"
   ]
  },
  {
   "cell_type": "markdown",
   "metadata": {},
   "source": [
    "1. What are the common attributes of the test sentences that cause very high perplexity? __The sentences that score with better (lower) Perplexity typically have more common words.__"
   ]
  },
  {
   "cell_type": "markdown",
   "metadata": {},
   "source": [
    "5 points in this assignment are reserved for overall style (both for writing and for code submitted). All work submitted should be clear, easily interpretable, and checked for spelling, etc. (Re-read what you write and make sure it makes sense). Course staff are always happy to give grammatical help (but we won't pre-grade the content of your answers)."
   ]
  },
  {
   "cell_type": "markdown",
   "metadata": {},
   "source": []
  }
 ],
 "metadata": {
  "kernelspec": {
   "display_name": "Python 3 (ipykernel)",
   "language": "python",
   "name": "python3"
  },
  "language_info": {
   "codemirror_mode": {
    "name": "ipython",
    "version": 3
   },
   "file_extension": ".py",
   "mimetype": "text/x-python",
   "name": "python",
   "nbconvert_exporter": "python",
   "pygments_lexer": "ipython3",
   "version": "3.10.9"
  }
 },
 "nbformat": 4,
 "nbformat_minor": 2
}
